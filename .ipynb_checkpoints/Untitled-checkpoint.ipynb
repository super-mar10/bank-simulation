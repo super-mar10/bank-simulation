{
 "cells": [
  {
   "cell_type": "code",
   "execution_count": null,
   "metadata": {},
   "outputs": [],
   "source": []
  },
  {
   "cell_type": "code",
   "execution_count": null,
   "metadata": {},
   "outputs": [
    {
     "name": "stdout",
     "output_type": "stream",
     "text": [
      "\n",
      "Welcome to GIT Bank!\n",
      "\n",
      "1. Press 1 If you are an existing customer\n",
      "2. Press 2 If you are a new customer\n",
      "3. Exit Program\n",
      "a\n",
      "Error, please choose a number\n",
      "spot on\n"
     ]
    }
   ],
   "source": [
    "from random import randint\n",
    "\n",
    "class Bank:\n",
    "    def __init__(self):\n",
    "        self.account_list = []\n",
    "        pass\n",
    "    \n",
    "    def accountGenerator():\n",
    "        account_number = randint(10000,99999)\n",
    "        return account_number\n",
    "\n",
    "\n",
    "number = Bank.accountGenerator()\n",
    "#print(number)\n",
    "\n",
    "#welcome message\n",
    "menu = \"\"\"\n",
    "Welcome to GIT Bank!\n",
    "\n",
    "1. Press 1 If you are an existing customer\n",
    "2. Press 2 If you are a new customer\n",
    "3. Exit Program\n",
    "\"\"\"\n",
    "\n",
    "#diplay message\n",
    "while True:\n",
    "    try:\n",
    "        choice = int(input(menu))\n",
    "    except ValueError:\n",
    "        print(\"Error, please choose a number\")\n",
    "    if choice not in range(1,4):\n",
    "        print(\"Error, please choose 1, 2 or 3\")\n",
    "        continue\n",
    "    else:\n",
    "        print(\"spot on\")\n",
    "        break\n",
    "        \n",
    "while True:\n",
    "    choice = input(menu)\n",
    "    try:\n",
    "        value = int(choice)\n",
    "    except ValueError:\n",
    "        print(\"Error, please choose a number\")\n",
    "        continue\n",
    "    if value in range(1,4):\n",
    "        print('spot on')\n",
    "        continue\n",
    "    elif value == 3:\n",
    "        print(\"Session Terminated\")\n",
    "    else:\n",
    "        print(\"Error, please pick a number between 1-3\")"
   ]
  },
  {
   "cell_type": "code",
   "execution_count": null,
   "metadata": {},
   "outputs": [],
   "source": [
    "choice = input()\n",
    "type(int(choice))"
   ]
  },
  {
   "cell_type": "code",
   "execution_count": 4,
   "metadata": {},
   "outputs": [
    {
     "name": "stdout",
     "output_type": "stream",
     "text": [
      "Please enter a number: 1\n",
      "number is not 2\n",
      "Please enter a number: 3\n",
      "number is not 2\n",
      "Please enter a number: 2\n",
      "right on\n"
     ]
    }
   ],
   "source": [
    "while True:\n",
    "    try:\n",
    "        x = int(input(\"Please enter a number: \"))\n",
    "    except ValueError:\n",
    "        print (\"Oops!  That was not a valid number.  Try again...\")\n",
    "    if x != 2:\n",
    "        print('number is not 2')\n",
    "        continue\n",
    "    else:\n",
    "        print('right on')\n",
    "        break\n"
   ]
  },
  {
   "cell_type": "code",
   "execution_count": null,
   "metadata": {},
   "outputs": [],
   "source": []
  }
 ],
 "metadata": {
  "kernelspec": {
   "display_name": "Python 3",
   "language": "python",
   "name": "python3"
  },
  "language_info": {
   "codemirror_mode": {
    "name": "ipython",
    "version": 3
   },
   "file_extension": ".py",
   "mimetype": "text/x-python",
   "name": "python",
   "nbconvert_exporter": "python",
   "pygments_lexer": "ipython3",
   "version": "3.6.5"
  }
 },
 "nbformat": 4,
 "nbformat_minor": 2
}
