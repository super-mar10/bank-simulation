{
 "cells": [
  {
   "cell_type": "code",
   "execution_count": 10,
   "metadata": {},
   "outputs": [
    {
     "name": "stdout",
     "output_type": "stream",
     "text": [
      "\n",
      "Welcome to GIT Bank!\n",
      "\n",
      "1. Press 1 If you are an existing customer\n",
      "2. Press 2 If you are a new customer\n",
      "3. Terminate Session\n",
      "2\n",
      "spot on\n"
     ]
    }
   ],
   "source": [
    "from random import randint\n",
    "\n",
    "class Bank:\n",
    "    def __init__(self):\n",
    "        self.account_list = []\n",
    "        pass\n",
    "    \n",
    "    def accountGenerator():\n",
    "        account_number = randint(10000,99999)\n",
    "        return account_number\n",
    "\n",
    "\n",
    "number = Bank.accountGenerator()\n",
    "#print(number)\n",
    "\n",
    "#welcome message\n",
    "menu = \"\"\"\n",
    "Welcome to GIT Bank!\n",
    "\n",
    "1. Press 1 If you are an existing customer\n",
    "2. Press 2 If you are a new customer\n",
    "3. Terminate Session\n",
    "\"\"\"\n",
    "\n",
    "#diplay message   \n",
    "while True:\n",
    "    choice = input(menu)\n",
    "    try:\n",
    "        value = int(choice)\n",
    "        if value in range(1,3):\n",
    "            print(\"spot on\")\n",
    "            break\n",
    "        elif value == 3:\n",
    "            print(\"Session Terminated\")\n",
    "            break\n",
    "    except ValueError:\n",
    "        print(\"Please, choose a number between 1-3\")\n",
    "        continue"
   ]
  },
  {
   "cell_type": "code",
   "execution_count": null,
   "metadata": {},
   "outputs": [],
   "source": []
  }
 ],
 "metadata": {
  "kernelspec": {
   "display_name": "Python 3",
   "language": "python",
   "name": "python3"
  },
  "language_info": {
   "codemirror_mode": {
    "name": "ipython",
    "version": 3
   },
   "file_extension": ".py",
   "mimetype": "text/x-python",
   "name": "python",
   "nbconvert_exporter": "python",
   "pygments_lexer": "ipython3",
   "version": "3.6.5"
  }
 },
 "nbformat": 4,
 "nbformat_minor": 2
}
